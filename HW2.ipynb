{
 "cells": [
  {
   "cell_type": "code",
   "execution_count": 3,
   "metadata": {},
   "outputs": [],
   "source": [
    "import numpy as np\n",
    "import matplotlib.pyplot as plt\n",
    "from queue import Queue\n",
    "from numpy.random import exponential as rexp\n",
    "import pandas as pd"
   ]
  },
  {
   "cell_type": "code",
   "execution_count": 4,
   "metadata": {},
   "outputs": [],
   "source": [
    "import warnings\n",
    "warnings.filterwarnings('ignore')"
   ]
  },
  {
   "cell_type": "code",
   "execution_count": 219,
   "metadata": {},
   "outputs": [],
   "source": [
    "\n",
    "    \n",
    "    \n",
    "class Order_Grid:\n",
    "    def __init__(self, smallest_price, largest_price, unit = 1):\n",
    "        self._price_grid = list(range(smallest_price, largest_price+unit, unit))[::-1] # should consider use np.arange but need to deal with data type.\n",
    "        self.unit = unit\n",
    "        price_grid = self._price_grid\n",
    "        self.min_price = min(price_grid)\n",
    "        self.max_price = max(price_grid)\n",
    "        self.n = len(price_grid)\n",
    "        self.X = pd.Series([0 for _ in price_grid], index=price_grid)\n",
    "        self.first_bid = min(price_grid)\n",
    "        self.first_ask = max(price_grid)\n",
    "        self.update_papb()\n",
    "        self.bsize = 0\n",
    "        self.asize = 0\n",
    "        \n",
    "    def add_market(self, qty, type_, limit_price = None):\n",
    "        q = qty\n",
    "        i = 0\n",
    "        unit = self.unit\n",
    "        if type_=='buy':\n",
    "            assert qty <= self.bsize, f'no enough liquidity: {self.bsize}'\n",
    "            isbuy, sign, best_price = True, 1, self.pA\n",
    "        elif type_ == 'sell':\n",
    "            assert qty <= self.asize, f'no enough liquidity: {self.asize}'\n",
    "            isbuy, sign, best_price = False, -1, self.pB\n",
    "        else:\n",
    "            raise TypeError(f\"The second parameter type must be buy or sell, invalid input: {type_}\")\n",
    "        while q > 0:\n",
    "            idx = best_price+sign*i*unit\n",
    "            exec_q_at_i = min(sign*self.X[idx], q)\n",
    "            self.X[idx] -= sign*exec_q_at_i\n",
    "            if isbuy: self.asize -= exec_q_at_i\n",
    "            else: self.bsize -= exec_q_at_i\n",
    "            q = q-exec_q_at_i\n",
    "            if limit_price:\n",
    "                if idx == limit_price and q > 0:\n",
    "                    assert self.X[idx] == 0, f'{self.X[idx]}'\n",
    "                    self.X[idx] = -q\n",
    "                    break\n",
    "            i += 1\n",
    "        self.update_papb()\n",
    "        \n",
    "    def cancel(self, price, qty):\n",
    "        if price<= self.pA:\n",
    "            cancelled_order = max(min(qty, -self.X[price]), 0)\n",
    "            self.X[price] += cancelled_order\n",
    "            self.bsize -= cancelled_order\n",
    "        elif price >= self.pB:\n",
    "            cancelled_order = max(min(qty, self.X[price]), 0)\n",
    "            self.X[price] -= cancelled_order\n",
    "            self.asize -= cancelled_order\n",
    "        else:\n",
    "            raise\n",
    "        \n",
    "        self.update_papb()\n",
    "            \n",
    "            \n",
    "    def add_limit(self, price, qty, type_):\n",
    "        assert qty>=0\n",
    "        if type_=='buy':\n",
    "            isbuy, sign, best_price = True, 1, self.pA\n",
    "            if price >= self.pA:\n",
    "                self.add_market(qty, type_, limit_price = price)\n",
    "            else:\n",
    "                self.X[price] -= sign*qty\n",
    "                self.bsize += qty\n",
    "        elif type_ == 'sell':\n",
    "            isbuy, sign, best_price = False, -1, self.pB\n",
    "            if price <= self.pB:\n",
    "                self.add_market(qty, type_, limit_price = price)\n",
    "            else:\n",
    "                self.X[price] -= sign*qty\n",
    "                self.asize += qty\n",
    "        else:\n",
    "            raise TypeError(f\"The third parameter type must be buy or sell, invalid input: {type_}\")           \n",
    "        \n",
    "        self.update_papb()\n",
    "\n",
    "    def update_papb(self):\n",
    "        pa = self.X[self.X>0].index.min()\n",
    "        pb = self.X[self.X<0].index.max()\n",
    "        self.pA = self.max_price if pd.isna(pa) else pa\n",
    "        self.pB = self.min_price if pd.isna(pb) else pb\n",
    "        assert self.pA >= self.pB, f'pA: {self.pA}; pB: {self.pB}'\n",
    "        self.pM = (self.pA+self.pB)*0.5\n",
    "        self.spread = self.pA -self.pB\n",
    "        \n",
    "    \n",
    "    def __repr__(self):\n",
    "        return repr(self.X)\n",
    "    "
   ]
  },
  {
   "cell_type": "code",
   "execution_count": 26,
   "metadata": {},
   "outputs": [
    {
     "data": {
      "text/plain": [
       "False"
      ]
     },
     "execution_count": 26,
     "metadata": {},
     "output_type": "execute_result"
    }
   ],
   "source": [
    "pd.isna(pd.Series([1]).index.min())"
   ]
  },
  {
   "cell_type": "code",
   "execution_count": 220,
   "metadata": {},
   "outputs": [],
   "source": [
    "\n",
    "g = Order_Grid(1, 10)"
   ]
  },
  {
   "cell_type": "code",
   "execution_count": 221,
   "metadata": {},
   "outputs": [
    {
     "data": {
      "text/plain": [
       "(0, 0)"
      ]
     },
     "execution_count": 221,
     "metadata": {},
     "output_type": "execute_result"
    }
   ],
   "source": [
    "g.bsize, g.asize"
   ]
  },
  {
   "cell_type": "code",
   "execution_count": 222,
   "metadata": {},
   "outputs": [
    {
     "data": {
      "text/plain": [
       "(10, 1)"
      ]
     },
     "execution_count": 222,
     "metadata": {},
     "output_type": "execute_result"
    }
   ],
   "source": [
    "g.pA, g.pB"
   ]
  },
  {
   "cell_type": "code",
   "execution_count": 227,
   "metadata": {
    "scrolled": false
   },
   "outputs": [
    {
     "data": {
      "text/plain": [
       "10      0\n",
       "9       0\n",
       "8     150\n",
       "7     150\n",
       "6      50\n",
       "5     -50\n",
       "4    -200\n",
       "3    -200\n",
       "2       0\n",
       "1       0\n",
       "dtype: int64"
      ]
     },
     "execution_count": 227,
     "metadata": {},
     "output_type": "execute_result"
    }
   ],
   "source": [
    "g.X"
   ]
  },
  {
   "cell_type": "code",
   "execution_count": 224,
   "metadata": {},
   "outputs": [],
   "source": [
    "g.add_limit(8, 150, 'sell')\n",
    "g.add_limit(7, 150, 'sell')\n",
    "g.add_limit(6, 50, 'sell')\n",
    "g.add_limit(5, 100, 'sell')\n",
    "g.add_limit(4, 200, 'buy')\n",
    "g.add_limit(3, 100, 'buy')\n",
    "g.add_limit(3, 100, 'buy')"
   ]
  },
  {
   "cell_type": "code",
   "execution_count": 207,
   "metadata": {},
   "outputs": [],
   "source": [
    "g.cancel(3,300)"
   ]
  },
  {
   "cell_type": "code",
   "execution_count": 226,
   "metadata": {},
   "outputs": [],
   "source": [
    "g.add_limit(5, 150, 'buy')"
   ]
  },
  {
   "cell_type": "code",
   "execution_count": null,
   "metadata": {},
   "outputs": [],
   "source": [
    "g"
   ]
  },
  {
   "cell_type": "code",
   "execution_count": 214,
   "metadata": {},
   "outputs": [],
   "source": [
    "g.add_market(350, 'buy')"
   ]
  },
  {
   "cell_type": "code",
   "execution_count": 69,
   "metadata": {},
   "outputs": [
    {
     "data": {
      "text/plain": [
       "10      0\n",
       "9       0\n",
       "8     150\n",
       "7      50\n",
       "6     100\n",
       "5    -100\n",
       "4    -200\n",
       "3     -50\n",
       "2     -50\n",
       "1       0\n",
       "dtype: int64"
      ]
     },
     "execution_count": 69,
     "metadata": {},
     "output_type": "execute_result"
    }
   ],
   "source": [
    "g.X"
   ]
  },
  {
   "cell_type": "code",
   "execution_count": 63,
   "metadata": {},
   "outputs": [
    {
     "data": {
      "text/plain": [
       "1"
      ]
     },
     "execution_count": 63,
     "metadata": {},
     "output_type": "execute_result"
    }
   ],
   "source": [
    "g.spread"
   ]
  },
  {
   "cell_type": "code",
   "execution_count": 4,
   "metadata": {},
   "outputs": [],
   "source": [
    "\n",
    "            \n",
    "            \n",
    "class Dark_Pool:\n",
    "    def __init__(self, bid_rate, ask_rate, total_time, matching_chance):\n",
    "        self.bid_rate = bid_rate\n",
    "        self.ask_rate = ask_rate\n",
    "        self.total_time = total_time\n",
    "        self.bid_qsize = 0\n",
    "        self.ask_qsize = 0\n",
    "        self.matching_chance = matching_chance\n",
    "        self.next_bid = rexp(self.bid_rate)\n",
    "        self.next_ask = rexp(self.ask_rate)\n",
    "        self.current_tick = 0\n",
    "        self.order_queue = Order_List()\n",
    "\n",
    "    \n",
    "    def _count_orders(self, queue_size, next_time, rate, price, side = None):\n",
    "        c = 0\n",
    "        next_time -= 1\n",
    "        if next_time < 0:\n",
    "            while True:\n",
    "                c += 1\n",
    "                queue_size += 1\n",
    "                self.order_queue.add(Order(price, side, 100, self.current_tick), side)\n",
    "                next_time += rexp(rate)\n",
    "                if next_time >= 0:\n",
    "                    break\n",
    "        else:\n",
    "            pass\n",
    "        \n",
    "#         print(f'{side} new order: {c}')\n",
    "        return queue_size, next_time\n",
    "    \n",
    "    def matching(self, price):\n",
    "        delta = self.bid_qsize - self.ask_qsize\n",
    "        ret = min(self.bid_qsize, self.ask_qsize)\n",
    "        if delta <= 0:\n",
    "            self.bid_qsize, self.ask_qsize = (0, -delta)  \n",
    "        else:\n",
    "            self.bid_qsize, self.ask_qsize = (delta, 0)\n",
    "            \n",
    "#         print(f'num of filled order: {ret}, left order: {delta}')\n",
    "        self.order_queue.mark_fill(ret, price, self.current_tick)\n",
    "        return ret\n",
    "        \n",
    "    def count_bid_ask(self, price):  \n",
    "        self.bid_qsize, self.next_bid = self._count_orders(self.bid_qsize, self.next_bid, \n",
    "                                                           self.bid_rate, price, 'buy')\n",
    "        \n",
    "        self.ask_qsize, self.next_ask = self._count_orders(self.ask_qsize, self.next_ask, \n",
    "                                                           self.ask_rate, price, 'sell')\n",
    "            \n",
    "\n",
    "    def main(self, mid_price_seq):\n",
    "        if len(mid_price_seq)<self.total_time: raise\n",
    "        \n",
    "        exec_size_ls = [0]\n",
    "        nb = [0]\n",
    "        na = [0]\n",
    "\n",
    "        for t in range(self.total_time)[1::]:\n",
    "            self.current_tick = t\n",
    "#             print(self.current_tick)\n",
    "            self.count_bid_ask(mid_price_seq[t])\n",
    "            exec_size_ls.append(self.matching(mid_price_seq[t]) if np.random.uniform() <= self.matching_chance else 0)\n",
    "            nb.append(self.bid_qsize)\n",
    "            na.append(self.ask_qsize)\n",
    "        return np.array(exec_size_ls)*100, np.array(nb)*100, np.array(na)*100, {}"
   ]
  },
  {
   "cell_type": "code",
   "execution_count": null,
   "metadata": {},
   "outputs": [],
   "source": []
  }
 ],
 "metadata": {
  "kernelspec": {
   "display_name": "Python 3",
   "language": "python",
   "name": "python3"
  },
  "language_info": {
   "codemirror_mode": {
    "name": "ipython",
    "version": 3
   },
   "file_extension": ".py",
   "mimetype": "text/x-python",
   "name": "python",
   "nbconvert_exporter": "python",
   "pygments_lexer": "ipython3",
   "version": "3.7.4"
  }
 },
 "nbformat": 4,
 "nbformat_minor": 4
}
