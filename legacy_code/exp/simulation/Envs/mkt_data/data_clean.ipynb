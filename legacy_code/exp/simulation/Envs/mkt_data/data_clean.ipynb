{
 "nbformat": 4,
 "nbformat_minor": 2,
 "metadata": {
  "language_info": {
   "name": "python",
   "codemirror_mode": {
    "name": "ipython",
    "version": 3
   },
   "version": "3.7.4-final"
  },
  "orig_nbformat": 2,
  "file_extension": ".py",
  "mimetype": "text/x-python",
  "name": "python",
  "npconvert_exporter": "python",
  "pygments_lexer": "ipython3",
  "version": 3,
  "kernelspec": {
   "name": "python3",
   "display_name": "Python 3"
  }
 },
 "cells": [
  {
   "cell_type": "code",
   "execution_count": 2,
   "metadata": {},
   "outputs": [],
   "source": [
    "import pandas as pd"
   ]
  },
  {
   "cell_type": "code",
   "execution_count": 3,
   "metadata": {},
   "outputs": [
    {
     "data": {
      "text/html": "<div>\n<style scoped>\n    .dataframe tbody tr th:only-of-type {\n        vertical-align: middle;\n    }\n\n    .dataframe tbody tr th {\n        vertical-align: top;\n    }\n\n    .dataframe thead th {\n        text-align: right;\n    }\n</style>\n<table border=\"1\" class=\"dataframe\">\n  <thead>\n    <tr style=\"text-align: right;\">\n      <th></th>\n      <th>ticker</th>\n      <th>real_time</th>\n      <th>last_price</th>\n      <th>bid_price_1</th>\n      <th>bid_size_1</th>\n      <th>bid_price_2</th>\n      <th>bid_size_2</th>\n      <th>bid_price_3</th>\n      <th>bid_size_3</th>\n      <th>bid_price_4</th>\n      <th>...</th>\n      <th>ask_price_1</th>\n      <th>ask_size_1</th>\n      <th>ask_price_2</th>\n      <th>ask_size_2</th>\n      <th>ask_price_3</th>\n      <th>ask_size_3</th>\n      <th>ask_price_4</th>\n      <th>ask_size_4</th>\n      <th>ask_price_5</th>\n      <th>ask_size_5</th>\n    </tr>\n  </thead>\n  <tbody>\n    <tr>\n      <th>0</th>\n      <td>TRV</td>\n      <td>2020-02-20 17:55:43.903243</td>\n      <td>120.72</td>\n      <td>120.55</td>\n      <td>3</td>\n      <td>120.33</td>\n      <td>5</td>\n      <td>120.29</td>\n      <td>3</td>\n      <td>0.00</td>\n      <td>...</td>\n      <td>120.89</td>\n      <td>3</td>\n      <td>120.98</td>\n      <td>5</td>\n      <td>121.05</td>\n      <td>3</td>\n      <td>121.14</td>\n      <td>2</td>\n      <td>121.15</td>\n      <td>1</td>\n    </tr>\n    <tr>\n      <th>1</th>\n      <td>TRV</td>\n      <td>2020-02-20 17:55:44.406704</td>\n      <td>120.72</td>\n      <td>120.55</td>\n      <td>3</td>\n      <td>120.33</td>\n      <td>5</td>\n      <td>120.29</td>\n      <td>3</td>\n      <td>0.00</td>\n      <td>...</td>\n      <td>120.89</td>\n      <td>3</td>\n      <td>120.98</td>\n      <td>5</td>\n      <td>121.05</td>\n      <td>3</td>\n      <td>121.14</td>\n      <td>2</td>\n      <td>121.15</td>\n      <td>1</td>\n    </tr>\n    <tr>\n      <th>2</th>\n      <td>TRV</td>\n      <td>2020-02-20 17:55:44.903315</td>\n      <td>120.72</td>\n      <td>120.55</td>\n      <td>3</td>\n      <td>120.33</td>\n      <td>5</td>\n      <td>120.29</td>\n      <td>3</td>\n      <td>0.00</td>\n      <td>...</td>\n      <td>120.85</td>\n      <td>2</td>\n      <td>120.89</td>\n      <td>3</td>\n      <td>120.98</td>\n      <td>5</td>\n      <td>121.05</td>\n      <td>3</td>\n      <td>121.14</td>\n      <td>2</td>\n    </tr>\n    <tr>\n      <th>3</th>\n      <td>TRV</td>\n      <td>2020-02-20 17:55:45.403205</td>\n      <td>120.72</td>\n      <td>120.55</td>\n      <td>3</td>\n      <td>120.33</td>\n      <td>5</td>\n      <td>120.29</td>\n      <td>3</td>\n      <td>0.00</td>\n      <td>...</td>\n      <td>120.85</td>\n      <td>2</td>\n      <td>120.89</td>\n      <td>3</td>\n      <td>120.98</td>\n      <td>5</td>\n      <td>121.05</td>\n      <td>3</td>\n      <td>121.14</td>\n      <td>2</td>\n    </tr>\n    <tr>\n      <th>4</th>\n      <td>TRV</td>\n      <td>2020-02-20 17:55:45.903511</td>\n      <td>120.72</td>\n      <td>120.55</td>\n      <td>3</td>\n      <td>120.33</td>\n      <td>5</td>\n      <td>120.29</td>\n      <td>3</td>\n      <td>0.00</td>\n      <td>...</td>\n      <td>120.85</td>\n      <td>2</td>\n      <td>120.89</td>\n      <td>3</td>\n      <td>120.98</td>\n      <td>5</td>\n      <td>121.05</td>\n      <td>3</td>\n      <td>121.14</td>\n      <td>2</td>\n    </tr>\n    <tr>\n      <th>...</th>\n      <td>...</td>\n      <td>...</td>\n      <td>...</td>\n      <td>...</td>\n      <td>...</td>\n      <td>...</td>\n      <td>...</td>\n      <td>...</td>\n      <td>...</td>\n      <td>...</td>\n      <td>...</td>\n      <td>...</td>\n      <td>...</td>\n      <td>...</td>\n      <td>...</td>\n      <td>...</td>\n      <td>...</td>\n      <td>...</td>\n      <td>...</td>\n      <td>...</td>\n      <td>...</td>\n    </tr>\n    <tr>\n      <th>46713</th>\n      <td>TRV</td>\n      <td>2020-02-21 00:25:00.409479</td>\n      <td>119.91</td>\n      <td>119.89</td>\n      <td>10</td>\n      <td>119.87</td>\n      <td>5</td>\n      <td>119.86</td>\n      <td>7</td>\n      <td>119.85</td>\n      <td>...</td>\n      <td>119.92</td>\n      <td>7</td>\n      <td>119.93</td>\n      <td>7</td>\n      <td>119.95</td>\n      <td>18</td>\n      <td>119.96</td>\n      <td>8</td>\n      <td>119.97</td>\n      <td>1</td>\n    </tr>\n    <tr>\n      <th>46714</th>\n      <td>TRV</td>\n      <td>2020-02-21 00:25:00.909429</td>\n      <td>119.91</td>\n      <td>119.89</td>\n      <td>13</td>\n      <td>119.87</td>\n      <td>5</td>\n      <td>119.86</td>\n      <td>7</td>\n      <td>119.85</td>\n      <td>...</td>\n      <td>119.91</td>\n      <td>1</td>\n      <td>119.92</td>\n      <td>7</td>\n      <td>119.93</td>\n      <td>7</td>\n      <td>119.95</td>\n      <td>18</td>\n      <td>119.96</td>\n      <td>8</td>\n    </tr>\n    <tr>\n      <th>46715</th>\n      <td>TRV</td>\n      <td>2020-02-21 00:25:01.409430</td>\n      <td>119.91</td>\n      <td>119.89</td>\n      <td>14</td>\n      <td>119.87</td>\n      <td>5</td>\n      <td>119.86</td>\n      <td>7</td>\n      <td>119.85</td>\n      <td>...</td>\n      <td>119.92</td>\n      <td>7</td>\n      <td>119.93</td>\n      <td>7</td>\n      <td>119.95</td>\n      <td>18</td>\n      <td>119.96</td>\n      <td>8</td>\n      <td>119.97</td>\n      <td>1</td>\n    </tr>\n    <tr>\n      <th>46716</th>\n      <td>TRV</td>\n      <td>2020-02-21 00:25:01.911143</td>\n      <td>119.91</td>\n      <td>119.89</td>\n      <td>15</td>\n      <td>119.87</td>\n      <td>5</td>\n      <td>119.86</td>\n      <td>7</td>\n      <td>119.85</td>\n      <td>...</td>\n      <td>119.92</td>\n      <td>7</td>\n      <td>119.93</td>\n      <td>7</td>\n      <td>119.95</td>\n      <td>18</td>\n      <td>119.96</td>\n      <td>8</td>\n      <td>119.97</td>\n      <td>1</td>\n    </tr>\n    <tr>\n      <th>46717</th>\n      <td>TRV</td>\n      <td>2020-02-21 00:25:02.409623</td>\n      <td>119.91</td>\n      <td>119.89</td>\n      <td>17</td>\n      <td>119.87</td>\n      <td>5</td>\n      <td>119.86</td>\n      <td>7</td>\n      <td>119.85</td>\n      <td>...</td>\n      <td>119.92</td>\n      <td>7</td>\n      <td>119.93</td>\n      <td>7</td>\n      <td>119.95</td>\n      <td>18</td>\n      <td>119.96</td>\n      <td>8</td>\n      <td>119.97</td>\n      <td>1</td>\n    </tr>\n  </tbody>\n</table>\n<p>46718 rows × 23 columns</p>\n</div>",
      "text/plain": "      ticker                   real_time  last_price  bid_price_1  bid_size_1  \\\n0        TRV  2020-02-20 17:55:43.903243      120.72       120.55           3   \n1        TRV  2020-02-20 17:55:44.406704      120.72       120.55           3   \n2        TRV  2020-02-20 17:55:44.903315      120.72       120.55           3   \n3        TRV  2020-02-20 17:55:45.403205      120.72       120.55           3   \n4        TRV  2020-02-20 17:55:45.903511      120.72       120.55           3   \n...      ...                         ...         ...          ...         ...   \n46713    TRV  2020-02-21 00:25:00.409479      119.91       119.89          10   \n46714    TRV  2020-02-21 00:25:00.909429      119.91       119.89          13   \n46715    TRV  2020-02-21 00:25:01.409430      119.91       119.89          14   \n46716    TRV  2020-02-21 00:25:01.911143      119.91       119.89          15   \n46717    TRV  2020-02-21 00:25:02.409623      119.91       119.89          17   \n\n       bid_price_2  bid_size_2  bid_price_3  bid_size_3  bid_price_4  ...  \\\n0           120.33           5       120.29           3         0.00  ...   \n1           120.33           5       120.29           3         0.00  ...   \n2           120.33           5       120.29           3         0.00  ...   \n3           120.33           5       120.29           3         0.00  ...   \n4           120.33           5       120.29           3         0.00  ...   \n...            ...         ...          ...         ...          ...  ...   \n46713       119.87           5       119.86           7       119.85  ...   \n46714       119.87           5       119.86           7       119.85  ...   \n46715       119.87           5       119.86           7       119.85  ...   \n46716       119.87           5       119.86           7       119.85  ...   \n46717       119.87           5       119.86           7       119.85  ...   \n\n       ask_price_1  ask_size_1  ask_price_2  ask_size_2  ask_price_3  \\\n0           120.89           3       120.98           5       121.05   \n1           120.89           3       120.98           5       121.05   \n2           120.85           2       120.89           3       120.98   \n3           120.85           2       120.89           3       120.98   \n4           120.85           2       120.89           3       120.98   \n...            ...         ...          ...         ...          ...   \n46713       119.92           7       119.93           7       119.95   \n46714       119.91           1       119.92           7       119.93   \n46715       119.92           7       119.93           7       119.95   \n46716       119.92           7       119.93           7       119.95   \n46717       119.92           7       119.93           7       119.95   \n\n       ask_size_3  ask_price_4  ask_size_4  ask_price_5  ask_size_5  \n0               3       121.14           2       121.15           1  \n1               3       121.14           2       121.15           1  \n2               5       121.05           3       121.14           2  \n3               5       121.05           3       121.14           2  \n4               5       121.05           3       121.14           2  \n...           ...          ...         ...          ...         ...  \n46713          18       119.96           8       119.97           1  \n46714           7       119.95          18       119.96           8  \n46715          18       119.96           8       119.97           1  \n46716          18       119.96           8       119.97           1  \n46717          18       119.96           8       119.97           1  \n\n[46718 rows x 23 columns]"
     },
     "execution_count": 3,
     "metadata": {},
     "output_type": "execute_result"
    }
   ],
   "source": [
    "pd.read_csv('TRV20200220.csv')"
   ]
  },
  {
   "cell_type": "code",
   "execution_count": null,
   "metadata": {},
   "outputs": [],
   "source": []
  }
 ]
}